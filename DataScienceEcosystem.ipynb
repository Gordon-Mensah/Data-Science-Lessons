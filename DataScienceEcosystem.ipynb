{
 "cells": [
  {
   "cell_type": "markdown",
   "id": "9e44a463",
   "metadata": {},
   "source": [
    "#   Data Science Tools and Ecosystem"
   ]
  },
  {
   "cell_type": "markdown",
   "id": "43969c01",
   "metadata": {},
   "source": [
    "In this notebook,Data Science Tools and  Ecosystem are summarized"
   ]
  },
  {
   "cell_type": "markdown",
   "id": "950b6539",
   "metadata": {},
   "source": [
    "**Objectives:** "
   ]
  },
  {
   "cell_type": "markdown",
   "id": "1b75ee58",
   "metadata": {},
   "source": [
    "* List popular languages for Data Science\n",
    "* List some commonly used libraries as a Data Scientist\n",
    "* Examples of Data Science Tools"
   ]
  },
  {
   "cell_type": "markdown",
   "id": "89fcd386",
   "metadata": {},
   "source": [
    "Some of the popular languages that Data Scientists use are:"
   ]
  },
  {
   "cell_type": "markdown",
   "id": "05345f2b",
   "metadata": {},
   "source": [
    "1. Python\n",
    "2. R \n",
    "3. SQL"
   ]
  },
  {
   "cell_type": "markdown",
   "id": "a44b6b7d",
   "metadata": {},
   "source": [
    "Some of the commonly used libraries by Data Scientists include:"
   ]
  },
  {
   "cell_type": "markdown",
   "id": "7bfc8efb",
   "metadata": {},
   "source": [
    "1. Plotly\n",
    "2. Tensorflow\n",
    "3. Seaborn"
   ]
  },
  {
   "cell_type": "markdown",
   "id": "eedd6231",
   "metadata": {},
   "source": [
    " Data Science Tools |\n",
    "------------------- |\n",
    "Apache Hadoop|\n",
    " RStudio |\n",
    " ApacheSpark |"
   ]
  },
  {
   "cell_type": "markdown",
   "id": "b3c2659d",
   "metadata": {},
   "source": [
    "###  Below are a few examples of evaluating arithmetic expressions in Python"
   ]
  },
  {
   "cell_type": "markdown",
   "id": "aa3af80d",
   "metadata": {},
   "source": [
    "<!-- # This a simple arithmetic expression to multiply then add -->"
   ]
  },
  {
   "cell_type": "code",
   "execution_count": 34,
   "id": "ba2e92dc",
   "metadata": {},
   "outputs": [
    {
     "data": {
      "text/plain": [
       "17"
      ]
     },
     "execution_count": 34,
     "metadata": {},
     "output_type": "execute_result"
    }
   ],
   "source": [
    "(3*4)+5\n"
   ]
  },
  {
   "cell_type": "code",
   "execution_count": 46,
   "id": "9b2733ce",
   "metadata": {},
   "outputs": [
    {
     "name": "stdout",
     "output_type": "stream",
     "text": [
      "3.3333333333333335 mins\n"
     ]
    }
   ],
   "source": [
    "print (200/60,\"mins\")"
   ]
  },
  {
   "cell_type": "markdown",
   "id": "d9254920",
   "metadata": {},
   "source": [
    "## Author\n",
    "John Jerry Gordon-Mensah"
   ]
  }
 ],
 "metadata": {
  "kernelspec": {
   "display_name": "Python 3 (ipykernel)",
   "language": "python",
   "name": "python3"
  },
  "language_info": {
   "codemirror_mode": {
    "name": "ipython",
    "version": 3
   },
   "file_extension": ".py",
   "mimetype": "text/x-python",
   "name": "python",
   "nbconvert_exporter": "python",
   "pygments_lexer": "ipython3",
   "version": "3.11.5"
  }
 },
 "nbformat": 4,
 "nbformat_minor": 5
}
